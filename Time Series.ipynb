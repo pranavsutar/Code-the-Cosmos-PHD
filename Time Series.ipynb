{
 "cells": [
  {
   "cell_type": "code",
   "execution_count": 6,
   "metadata": {},
   "outputs": [
    {
     "name": "stdout",
     "output_type": "stream",
     "text": [
      "[[ 6  5]\n",
      " [ 1  5]\n",
      " [ 8  3]\n",
      " [ 2  4]\n",
      " [ 1  4]\n",
      " [ 2  7]\n",
      " [ 9  4]\n",
      " [ 4 10]\n",
      " [10  7]\n",
      " [ 9  9]] \n",
      "\n",
      "[[12.  5.]\n",
      " [ 2.  5.]\n",
      " [16.  3.]\n",
      " [ 4.  4.]\n",
      " [ 2.  4.]\n",
      " [ 4.  7.]\n",
      " [18.  4.]\n",
      " [ 8. 10.]\n",
      " [20.  7.]\n",
      " [18.  9.]]\n"
     ]
    }
   ],
   "source": [
    "import numpy as np, matplotlib.pyplot as plt, random as rd \n",
    "\n",
    "coordinates = np.array([[rd.randint(1,10) for j in range(2)] for i in range(10)])\n",
    "print(coordinates, '\\n')\n",
    "\n",
    "new_basis = np.array([\n",
    "    [0.5,0],\n",
    "    [0,1]\n",
    "])\n",
    "\n",
    "new_coordinates = np.matmul(coordinates, np.linalg.inv(new_basis))\n",
    "\n",
    "print(new_coordinates)\n",
    "\n"
   ]
  }
 ],
 "metadata": {
  "kernelspec": {
   "display_name": "base",
   "language": "python",
   "name": "python3"
  },
  "language_info": {
   "codemirror_mode": {
    "name": "ipython",
    "version": 3
   },
   "file_extension": ".py",
   "mimetype": "text/x-python",
   "name": "python",
   "nbconvert_exporter": "python",
   "pygments_lexer": "ipython3",
   "version": "3.11.5"
  }
 },
 "nbformat": 4,
 "nbformat_minor": 2
}
